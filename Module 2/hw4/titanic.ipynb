{
 "cells": [
  {
   "cell_type": "code",
   "execution_count": 1,
   "metadata": {
    "collapsed": false
   },
   "outputs": [
    {
     "data": {
      "text/plain": [
       "42"
      ]
     },
     "execution_count": 1,
     "metadata": {},
     "output_type": "execute_result"
    }
   ],
   "source": [
    "14*3"
   ]
  },
  {
   "cell_type": "code",
   "execution_count": 7,
   "metadata": {
    "collapsed": true
   },
   "outputs": [
    {
     "name": "stdout",
     "output_type": "stream",
     "text": [
      "<class 'pandas.core.frame.DataFrame'>\n",
      "RangeIndex: 1309 entries, 0 to 1308\n",
      "Data columns (total 14 columns):\n",
      "pclass       1309 non-null int64\n",
      "survived     1309 non-null int64\n",
      "name         1309 non-null object\n",
      "sex          1309 non-null object\n",
      "age          1046 non-null float64\n",
      "sibsp        1309 non-null int64\n",
      "parch        1309 non-null int64\n",
      "ticket       1309 non-null object\n",
      "fare         1308 non-null float64\n",
      "cabin        295 non-null object\n",
      "embarked     1307 non-null object\n",
      "boat         486 non-null object\n",
      "body         121 non-null float64\n",
      "home.dest    745 non-null object\n",
      "dtypes: float64(3), int64(4), object(7)\n",
      "memory usage: 143.2+ KB\n",
      "<class 'pandas.core.frame.DataFrame'>\n",
      "Int64Index: 159 entries, 7 to 613\n",
      "Data columns (total 13 columns):\n",
      "pclass       159 non-null int64\n",
      "survived     159 non-null int64\n",
      "name         159 non-null object\n",
      "sex          159 non-null object\n",
      "age          159 non-null float64\n",
      "sibsp        159 non-null int64\n",
      "parch        159 non-null int64\n",
      "ticket       159 non-null object\n",
      "fare         159 non-null float64\n",
      "cabin        159 non-null object\n",
      "embarked     159 non-null object\n",
      "boat         159 non-null object\n",
      "home.dest    159 non-null object\n",
      "dtypes: float64(2), int64(4), object(7)\n",
      "memory usage: 17.4+ KB\n"
     ]
    }
   ],
   "source": [
    "#\n",
    "#\n",
    "# titanic.py\n",
    "#\n",
    "#\n",
    "\n",
    "import numpy as np\n",
    "from sklearn import datasets\n",
    "from sklearn import cross_validation\n",
    "import pandas as pd\n",
    "\n",
    "# For Pandas's read_csv, use header=0 when you know row 0 is a header row\n",
    "# df here is a \"dataframe\":\n",
    "df = pd.read_csv('titanic.csv', header=0)\n",
    "df.head()\n",
    "df.info()\n",
    "\n",
    "# let's drop columns with too few values or that won't be meaningful\n",
    "# Here's an example of dropping the 'body' column:\n",
    "df = df.drop('body', axis=1)  # axis = 1 means column\n",
    "\n",
    "# let's drop all of the rows with missing data:\n",
    "df = df.dropna()\n",
    "\n",
    "# let's see our dataframe again...\n",
    "# I ended up with 1001 rows (anything over 500-600 seems reasonable)\n",
    "# _Don't_ use the result if it has fewer than 500 rows!\n",
    "# Instead, drop more columns BEFORE the df = df.dropna() call...\n",
    "df.head()\n",
    "df.info()"
   ]
  },
  {
   "cell_type": "code",
   "execution_count": 6,
   "metadata": {
    "collapsed": false
   },
   "outputs": [
    {
     "name": "stdout",
     "output_type": "stream",
     "text": [
      "<class 'pandas.core.frame.DataFrame'>\n",
      "Int64Index: 159 entries, 7 to 613\n",
      "Data columns (total 13 columns):\n",
      "pclass       159 non-null int64\n",
      "survived     159 non-null int64\n",
      "name         159 non-null object\n",
      "sex          159 non-null int64\n",
      "age          159 non-null float64\n",
      "sibsp        159 non-null int64\n",
      "parch        159 non-null int64\n",
      "ticket       159 non-null object\n",
      "fare         159 non-null float64\n",
      "cabin        159 non-null object\n",
      "embarked     159 non-null object\n",
      "boat         159 non-null object\n",
      "home.dest    159 non-null object\n",
      "dtypes: float64(2), int64(5), object(6)\n",
      "memory usage: 17.4+ KB\n",
      "+++ end of pandas +++\n",
      "\n"
     ]
    }
   ],
   "source": [
    "# You'll need conversion to numeric datatypes for all input columns\n",
    "#   Here's one example\n",
    "#\n",
    "def tr_mf(s):\n",
    "    \"\"\" from string to number\n",
    "    \"\"\"\n",
    "    d = { 'male':0, 'female':1 }\n",
    "    return d[s]\n",
    "\n",
    "df['sex'] = df['sex'].map(tr_mf)  # apply the function to the column\n",
    "\n",
    "# let's see our dataframe again...\n",
    "df.head()\n",
    "df.info()\n",
    "\n",
    "\n",
    "# you will need others!\n",
    "\n",
    "print(\"+++ end of pandas +++\\n\")"
   ]
  },
  {
   "cell_type": "code",
   "execution_count": 8,
   "metadata": {
    "collapsed": false
   },
   "outputs": [
    {
     "name": "stdout",
     "output_type": "stream",
     "text": [
      "+++ start of numpy/scikit-learn +++\n"
     ]
    },
    {
     "data": {
      "text/plain": [
       "42"
      ]
     },
     "execution_count": 8,
     "metadata": {},
     "output_type": "execute_result"
    }
   ],
   "source": [
    "print(\"+++ start of numpy/scikit-learn +++\")\n",
    "\n",
    "# Note that you'll likely split cell this into multiple cells...\n",
    "\n",
    "#\n",
    "# Let's convert parts of the dataframe, df, to a numpy array\n",
    "# \n",
    "\n",
    "# extract the underlying data with the values attribute:\n",
    "X_data = df.drop('survived', axis=1).values        # everything except the 'survival' column\n",
    "y_data = df[ 'survived' ].values      # also addressable by column name(s)\n",
    "\n",
    "#\n",
    "# you can take away the top 42 passengers (with unknown survival/perish data) here:\n",
    "#\n",
    "\n",
    "\n",
    "\n",
    "# feature engineering...\n",
    "#X_data[:,0] *= 100   # maybe the first column is worth much more!\n",
    "#X_data[:,3] *= 100   # maybe the fourth column is worth much more!\n",
    "\n",
    "\n",
    "\n",
    "\n",
    "#\n",
    "# the rest of this model-building, cross-validation, and prediction will come here:\n",
    "#     build from the experience and code in the other two examples... (iris and digits)\n",
    "#\n",
    "\n",
    "\n",
    "\n",
    "\n",
    "\"\"\"\n",
    "Comments and results:\n",
    "\n",
    "Briefly mention how this went:\n",
    "  + what value of k did you decide on for your kNN?\n",
    "  + how high were you able to get the average cross-validation (testing) score?\n",
    "\n",
    "\n",
    "\n",
    "Then, include the predicted labels of the 12 digits with full data but no label:\n",
    "Past those labels (just labels) here:\n",
    "You'll have 12 lines:\n",
    "\n",
    "\n",
    "\n",
    "\n",
    "And, include the predicted labels of the 10 digits that are \"partially erased\" and have no label:\n",
    "Mention briefly how you handled this situation!?\n",
    "\n",
    "Past those labels (just labels) here:\n",
    "You'll have 10 lines:\n",
    "\n",
    "\n",
    "\n",
    "\"\"\"\n",
    "42"
   ]
  }
 ],
 "metadata": {
  "kernelspec": {
   "display_name": "Python 3",
   "language": "python",
   "name": "python3"
  },
  "language_info": {
   "codemirror_mode": {
    "name": "ipython",
    "version": 3
   },
   "file_extension": ".py",
   "mimetype": "text/x-python",
   "name": "python",
   "nbconvert_exporter": "python",
   "pygments_lexer": "ipython3",
   "version": "3.5.3"
  }
 },
 "nbformat": 4,
 "nbformat_minor": 0
}
